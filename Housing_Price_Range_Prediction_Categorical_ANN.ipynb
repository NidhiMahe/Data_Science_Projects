{
 "cells": [
  {
   "cell_type": "code",
   "execution_count": 1,
   "id": "3fe7ccfb",
   "metadata": {},
   "outputs": [],
   "source": [
    "from numpy import mat\n",
    "from sklearn import datasets\n",
    "import statsmodels.api as sm\n",
    "import numpy as np\n",
    "import pandas as pd\n",
    "import matplotlib.pyplot as plt\n",
    "import seaborn as sns\n",
    "from sklearn import preprocessing\n",
    "from statsmodels.stats.outliers_influence import variance_inflation_factor\n",
    "from sklearn import metrics\n",
    "from sklearn.metrics import r2_score , mean_absolute_error, mean_squared_error \n",
    "from sklearn.metrics import accuracy_score\n",
    "from sklearn.metrics import matthews_corrcoef\n",
    "from sklearn.metrics import f1_score\n",
    "from sklearn.metrics import precision_score, recall_score\n",
    "from sklearn.metrics import confusion_matrix\n",
    "from sklearn.metrics import ConfusionMatrixDisplay"
   ]
  },
  {
   "cell_type": "code",
   "execution_count": 2,
   "id": "e99be034",
   "metadata": {},
   "outputs": [],
   "source": [
    "data = pd.read_csv('C:\\\\Users\\\\nidhi\\\\OneDrive\\\\Desktop\\\\Major_Project\\\\data.csv')"
   ]
  },
  {
   "cell_type": "code",
   "execution_count": 3,
   "id": "4a2e9f5b",
   "metadata": {},
   "outputs": [],
   "source": [
    "data[\"housing_price_range\"] = pd.cut(data[\"house_value\"],bins=[0,100000,200000,300000,400000,np.inf],labels=[0,1,2,3,4])\n",
    "A=data.drop(\"housing_price_range\",axis=1)\n",
    "X=A.drop(\"house_value\",axis=1)\n",
    "y=data[\"housing_price_range\"]"
   ]
  },
  {
   "cell_type": "code",
   "execution_count": 4,
   "id": "4a1f2e1c",
   "metadata": {},
   "outputs": [],
   "source": [
    "#y"
   ]
  },
  {
   "cell_type": "code",
   "execution_count": 5,
   "id": "b8270722",
   "metadata": {},
   "outputs": [],
   "source": [
    "from sklearn.pipeline import make_pipeline\n",
    "from sklearn.impute import SimpleImputer\n",
    "from sklearn.preprocessing import OneHotEncoder\n",
    "from sklearn.preprocessing import StandardScaler\n",
    "from sklearn.preprocessing import FunctionTransformer\n",
    "from sklearn.compose import ColumnTransformer\n",
    "from sklearn.compose import make_column_selector\n",
    "from sklearn.compose import make_column_transformer"
   ]
  },
  {
   "cell_type": "code",
   "execution_count": 6,
   "id": "3f666d1d",
   "metadata": {},
   "outputs": [],
   "source": [
    "num_pipeline = make_pipeline(SimpleImputer(strategy=\"median\"),StandardScaler())"
   ]
  },
  {
   "cell_type": "code",
   "execution_count": 7,
   "id": "173977e6",
   "metadata": {},
   "outputs": [],
   "source": [
    "cat_pipeline=make_pipeline(SimpleImputer(strategy=\"most_frequent\"),\n",
    "                          OneHotEncoder(handle_unknown=\"ignore\"))"
   ]
  },
  {
   "cell_type": "code",
   "execution_count": 8,
   "id": "5bb02bbe",
   "metadata": {},
   "outputs": [],
   "source": [
    "log_pipeline=make_pipeline(\n",
    "   SimpleImputer(strategy=\"median\"),\n",
    "   FunctionTransformer(np.log),\n",
    "   StandardScaler())"
   ]
  },
  {
   "cell_type": "code",
   "execution_count": 9,
   "id": "5619e301",
   "metadata": {},
   "outputs": [],
   "source": [
    "preprocessing_X=ColumnTransformer([\n",
    "    (\"log\",log_pipeline,[\"total_bedrooms\",\"total_rooms\",\"population\",\"households\"]),\n",
    "    (\"cat\",cat_pipeline,make_column_selector(dtype_include=object)),\n",
    "],\n",
    "    remainder=num_pipeline)\n"
   ]
  },
  {
   "cell_type": "code",
   "execution_count": 10,
   "id": "f9872990",
   "metadata": {},
   "outputs": [],
   "source": [
    "housing_prepared=preprocessing_X.fit_transform(X)"
   ]
  },
  {
   "cell_type": "code",
   "execution_count": 11,
   "id": "57281dea",
   "metadata": {},
   "outputs": [],
   "source": [
    "from tensorflow.keras.utils import to_categorical"
   ]
  },
  {
   "cell_type": "code",
   "execution_count": 12,
   "id": "706ed666",
   "metadata": {},
   "outputs": [],
   "source": [
    "dfy=(to_categorical(y))"
   ]
  },
  {
   "cell_type": "code",
   "execution_count": 13,
   "id": "92ee0f25",
   "metadata": {},
   "outputs": [
    {
     "data": {
      "text/plain": [
       "array([[1., 0., 0., 0., 0.],\n",
       "       [1., 0., 0., 0., 0.],\n",
       "       [0., 1., 0., 0., 0.],\n",
       "       ...,\n",
       "       [1., 0., 0., 0., 0.],\n",
       "       [1., 0., 0., 0., 0.],\n",
       "       [1., 0., 0., 0., 0.]], dtype=float32)"
      ]
     },
     "execution_count": 13,
     "metadata": {},
     "output_type": "execute_result"
    }
   ],
   "source": [
    "dfy"
   ]
  },
  {
   "cell_type": "code",
   "execution_count": 14,
   "id": "f84b8957",
   "metadata": {},
   "outputs": [],
   "source": [
    "from sklearn.model_selection import train_test_split\n",
    "X_train,X_test,y_train,y_test = train_test_split(housing_prepared,dfy, stratify=y, test_size=0.2, random_state=42)"
   ]
  },
  {
   "cell_type": "code",
   "execution_count": 15,
   "id": "527a04a7",
   "metadata": {},
   "outputs": [],
   "source": [
    "import keras\n",
    "from keras.models import Sequential\n",
    "from keras.layers import Dense\n",
    "classifier = Sequential()\n",
    "classifier.add(Dense(128, kernel_initializer='he_uniform', activation='relu',input_dim=80))\n",
    "#classifier.add(Dense(, kernel_initializer='he_uniform', activation='relu', input_shape=(11,)))\n",
    "classifier.add(Dense(5, kernel_initializer='he_uniform', activation = 'softmax'))\n",
    "classifier.compile(optimizer = 'adam', loss = 'categorical_crossentropy', metrics = ['accuracy'])"
   ]
  },
  {
   "cell_type": "code",
   "execution_count": 16,
   "id": "bedc2d96",
   "metadata": {},
   "outputs": [],
   "source": [
    "dfX_train = pd.DataFrame(X_train.toarray())"
   ]
  },
  {
   "cell_type": "code",
   "execution_count": 17,
   "id": "c07b0719",
   "metadata": {},
   "outputs": [
    {
     "data": {
      "text/plain": [
       "pandas.core.frame.DataFrame"
      ]
     },
     "execution_count": 17,
     "metadata": {},
     "output_type": "execute_result"
    }
   ],
   "source": [
    "type(dfX_train)"
   ]
  },
  {
   "cell_type": "code",
   "execution_count": 18,
   "id": "615e7d60",
   "metadata": {},
   "outputs": [],
   "source": [
    "#dfX_train"
   ]
  },
  {
   "cell_type": "code",
   "execution_count": 19,
   "id": "1aa26127",
   "metadata": {},
   "outputs": [
    {
     "name": "stdout",
     "output_type": "stream",
     "text": [
      "Epoch 1/10\n",
      "1321/1321 [==============================] - 4s 2ms/step - loss: 0.9306 - accuracy: 0.6190 - val_loss: 0.8046 - val_accuracy: 0.6561\n",
      "Epoch 2/10\n",
      "1321/1321 [==============================] - 3s 2ms/step - loss: 0.8028 - accuracy: 0.6695 - val_loss: 0.7716 - val_accuracy: 0.6757\n",
      "Epoch 3/10\n",
      "1321/1321 [==============================] - 3s 2ms/step - loss: 0.7749 - accuracy: 0.6768 - val_loss: 0.7531 - val_accuracy: 0.6791\n",
      "Epoch 4/10\n",
      "1321/1321 [==============================] - 2s 2ms/step - loss: 0.7605 - accuracy: 0.6851 - val_loss: 0.7528 - val_accuracy: 0.6836\n",
      "Epoch 5/10\n",
      "1321/1321 [==============================] - 2s 2ms/step - loss: 0.7465 - accuracy: 0.6902 - val_loss: 0.7359 - val_accuracy: 0.6866\n",
      "Epoch 6/10\n",
      "1321/1321 [==============================] - 2s 2ms/step - loss: 0.7375 - accuracy: 0.6948 - val_loss: 0.7380 - val_accuracy: 0.6897\n",
      "Epoch 7/10\n",
      "1321/1321 [==============================] - 2s 2ms/step - loss: 0.7291 - accuracy: 0.6931 - val_loss: 0.7297 - val_accuracy: 0.6903\n",
      "Epoch 8/10\n",
      "1321/1321 [==============================] - 4s 3ms/step - loss: 0.7217 - accuracy: 0.6984 - val_loss: 0.7456 - val_accuracy: 0.6857\n",
      "Epoch 9/10\n",
      "1321/1321 [==============================] - 4s 3ms/step - loss: 0.7147 - accuracy: 0.7039 - val_loss: 0.7263 - val_accuracy: 0.7015\n",
      "Epoch 10/10\n",
      "1321/1321 [==============================] - 4s 3ms/step - loss: 0.7093 - accuracy: 0.7033 - val_loss: 0.7153 - val_accuracy: 0.6960\n"
     ]
    }
   ],
   "source": [
    "hist = classifier.fit(dfX_train, y_train, epochs=10, batch_size=10, validation_split=0.2)\n"
   ]
  },
  {
   "cell_type": "code",
   "execution_count": 20,
   "id": "71b53dc9",
   "metadata": {},
   "outputs": [],
   "source": [
    "#dfy.to_csv(\"C:\\\\Users\\\\nidhi\\\\OneDrive\\\\Desktop\\\\Testing\\\\dfy.csv\")"
   ]
  },
  {
   "cell_type": "code",
   "execution_count": 21,
   "id": "88261688",
   "metadata": {},
   "outputs": [
    {
     "name": "stdout",
     "output_type": "stream",
     "text": [
      "516/516 [==============================] - 1s 2ms/step\n"
     ]
    }
   ],
   "source": [
    "y_pred_class = classifier.predict(dfX_train)\n"
   ]
  },
  {
   "cell_type": "code",
   "execution_count": 22,
   "id": "4d02eebd",
   "metadata": {},
   "outputs": [],
   "source": [
    "#predict_x=model.predict(X_test) \n",
    "y_pred=np.argmax(y_pred_class,axis=1)"
   ]
  },
  {
   "cell_type": "code",
   "execution_count": 23,
   "id": "c4b01634",
   "metadata": {},
   "outputs": [
    {
     "data": {
      "text/plain": [
       "array([1, 0, 0, ..., 3, 1, 1], dtype=int64)"
      ]
     },
     "execution_count": 23,
     "metadata": {},
     "output_type": "execute_result"
    }
   ],
   "source": [
    "y_pred"
   ]
  },
  {
   "cell_type": "code",
   "execution_count": 24,
   "id": "bf4032df",
   "metadata": {},
   "outputs": [],
   "source": [
    "y_train_class = np.argmax(y_train, axis=1)\n"
   ]
  },
  {
   "cell_type": "code",
   "execution_count": 25,
   "id": "76dc09e0",
   "metadata": {},
   "outputs": [],
   "source": [
    "#y_train"
   ]
  },
  {
   "cell_type": "code",
   "execution_count": 26,
   "id": "04e16021",
   "metadata": {},
   "outputs": [
    {
     "data": {
      "text/plain": [
       "array([[2229,  669,   26,    1,    1],\n",
       "       [ 450, 5461,  685,   12,   10],\n",
       "       [  17, 1026, 2703,  107,   46],\n",
       "       [   2,  147,  841,  420,  264],\n",
       "       [   3,   57,  219,  182,  934]], dtype=int64)"
      ]
     },
     "execution_count": 26,
     "metadata": {},
     "output_type": "execute_result"
    }
   ],
   "source": [
    "confusion_matrix(y_train_class,y_pred)"
   ]
  },
  {
   "cell_type": "code",
   "execution_count": 27,
   "id": "c4a68589",
   "metadata": {},
   "outputs": [
    {
     "data": {
      "text/plain": [
       "array([1, 0, 0, ..., 3, 1, 1], dtype=int64)"
      ]
     },
     "execution_count": 27,
     "metadata": {},
     "output_type": "execute_result"
    }
   ],
   "source": [
    "y_train_class"
   ]
  },
  {
   "cell_type": "code",
   "execution_count": 28,
   "id": "eb105a80",
   "metadata": {},
   "outputs": [
    {
     "data": {
      "text/plain": [
       "0.711421996124031"
      ]
     },
     "execution_count": 28,
     "metadata": {},
     "output_type": "execute_result"
    }
   ],
   "source": [
    "accuracy_score(y_train_class,y_pred)"
   ]
  },
  {
   "cell_type": "code",
   "execution_count": 29,
   "id": "8e312faa",
   "metadata": {},
   "outputs": [
    {
     "data": {
      "text/plain": [
       "array([1, 0, 0, ..., 3, 1, 1], dtype=int64)"
      ]
     },
     "execution_count": 29,
     "metadata": {},
     "output_type": "execute_result"
    }
   ],
   "source": [
    "y_pred"
   ]
  },
  {
   "cell_type": "code",
   "execution_count": 30,
   "id": "51927410",
   "metadata": {},
   "outputs": [
    {
     "data": {
      "text/plain": [
       "<sklearn.metrics._plot.confusion_matrix.ConfusionMatrixDisplay at 0x25b2510c910>"
      ]
     },
     "execution_count": 30,
     "metadata": {},
     "output_type": "execute_result"
    },
    {
     "data": {
      "image/png": "[encoded data removed]",
      "text/plain": [
       "<Figure size 432x288 with 2 Axes>"
      ]
     },
     "metadata": {
      "needs_background": "light"
     },
     "output_type": "display_data"
    }
   ],
   "source": [
    "ConfusionMatrixDisplay.from_predictions(y_train_class,y_pred)"
   ]
  },
  {
   "cell_type": "code",
   "execution_count": 31,
   "id": "1f09a078",
   "metadata": {},
   "outputs": [],
   "source": [
    "dfX_test = pd.DataFrame(X_test.toarray())\n",
    "\n"
   ]
  },
  {
   "cell_type": "code",
   "execution_count": 32,
   "id": "dd7d1907",
   "metadata": {},
   "outputs": [
    {
     "data": {
      "text/plain": [
       "pandas.core.frame.DataFrame"
      ]
     },
     "execution_count": 32,
     "metadata": {},
     "output_type": "execute_result"
    }
   ],
   "source": [
    "type(dfX_test)\n"
   ]
  },
  {
   "cell_type": "code",
   "execution_count": 33,
   "id": "b66405bf",
   "metadata": {},
   "outputs": [
    {
     "name": "stdout",
     "output_type": "stream",
     "text": [
      "129/129 [==============================] - 0s 2ms/step\n"
     ]
    }
   ],
   "source": [
    "y_pred_test = classifier.predict(dfX_test)\n"
   ]
  },
  {
   "cell_type": "code",
   "execution_count": 34,
   "id": "f0610286",
   "metadata": {},
   "outputs": [],
   "source": [
    "y_pred_test=np.argmax(y_pred_test,axis=1)\n"
   ]
  },
  {
   "cell_type": "code",
   "execution_count": 35,
   "id": "005f7ec7",
   "metadata": {},
   "outputs": [
    {
     "data": {
      "text/plain": [
       "array([1, 1, 2, ..., 2, 2, 0], dtype=int64)"
      ]
     },
     "execution_count": 35,
     "metadata": {},
     "output_type": "execute_result"
    }
   ],
   "source": [
    "y_pred_test\n"
   ]
  },
  {
   "cell_type": "code",
   "execution_count": 36,
   "id": "18f2a619",
   "metadata": {},
   "outputs": [],
   "source": [
    "y_test_class = np.argmax(y_test, axis=1)\n"
   ]
  },
  {
   "cell_type": "code",
   "execution_count": 37,
   "id": "289ea0f9",
   "metadata": {},
   "outputs": [],
   "source": [
    "#y_test\n"
   ]
  },
  {
   "cell_type": "code",
   "execution_count": 38,
   "id": "ef50c4ec",
   "metadata": {},
   "outputs": [
    {
     "data": {
      "text/plain": [
       "array([[ 524,  201,    6,    0,    1],\n",
       "       [ 123, 1326,  203,    3,    0],\n",
       "       [   2,  271,  649,   36,   16],\n",
       "       [   0,   33,  227,  104,   54],\n",
       "       [   0,   13,   53,   59,  224]], dtype=int64)"
      ]
     },
     "execution_count": 38,
     "metadata": {},
     "output_type": "execute_result"
    }
   ],
   "source": [
    "confusion_matrix(y_test_class,y_pred_test)\n"
   ]
  },
  {
   "cell_type": "code",
   "execution_count": 39,
   "id": "b9690c91",
   "metadata": {},
   "outputs": [
    {
     "data": {
      "text/plain": [
       "array([1, 1, 2, ..., 2, 2, 0], dtype=int64)"
      ]
     },
     "execution_count": 39,
     "metadata": {},
     "output_type": "execute_result"
    }
   ],
   "source": [
    "y_pred_test\n"
   ]
  },
  {
   "cell_type": "code",
   "execution_count": 40,
   "id": "12a58bb6",
   "metadata": {},
   "outputs": [
    {
     "data": {
      "text/plain": [
       "array([1, 1, 2, ..., 2, 2, 0], dtype=int64)"
      ]
     },
     "execution_count": 40,
     "metadata": {},
     "output_type": "execute_result"
    }
   ],
   "source": [
    "y_test_class\n"
   ]
  },
  {
   "cell_type": "code",
   "execution_count": 41,
   "id": "1af8c98a",
   "metadata": {},
   "outputs": [
    {
     "data": {
      "text/plain": [
       "0.6848352713178295"
      ]
     },
     "execution_count": 41,
     "metadata": {},
     "output_type": "execute_result"
    }
   ],
   "source": [
    "accuracy_score(y_test_class,y_pred_test)\n"
   ]
  },
  {
   "cell_type": "code",
   "execution_count": 42,
   "id": "30eb9ded",
   "metadata": {},
   "outputs": [
    {
     "data": {
      "text/plain": [
       "<sklearn.metrics._plot.confusion_matrix.ConfusionMatrixDisplay at 0x25b28320d90>"
      ]
     },
     "execution_count": 42,
     "metadata": {},
     "output_type": "execute_result"
    },
    {
     "data": {
      "image/png": "[encoded data removed]",
      "text/plain": [
       "<Figure size 432x288 with 2 Axes>"
      ]
     },
     "metadata": {
      "needs_background": "light"
     },
     "output_type": "display_data"
    }
   ],
   "source": [
    "ConfusionMatrixDisplay.from_predictions(y_test_class,y_pred_test)"
   ]
  },
  {
   "cell_type": "code",
   "execution_count": 43,
   "id": "9a1c3f56",
   "metadata": {},
   "outputs": [
    {
     "data": {
      "text/plain": [
       "0.6848352713178295"
      ]
     },
     "execution_count": 43,
     "metadata": {},
     "output_type": "execute_result"
    }
   ],
   "source": [
    "accuracy_score(y_test_class,y_pred_test)"
   ]
  },
  {
   "cell_type": "code",
   "execution_count": 44,
   "id": "05ede43a",
   "metadata": {},
   "outputs": [
    {
     "data": {
      "text/plain": [
       "array([1, 1, 2, ..., 2, 2, 0], dtype=int64)"
      ]
     },
     "execution_count": 44,
     "metadata": {},
     "output_type": "execute_result"
    }
   ],
   "source": [
    "y_pred_test"
   ]
  },
  {
   "cell_type": "code",
   "execution_count": 45,
   "id": "c86948be",
   "metadata": {},
   "outputs": [
    {
     "data": {
      "text/plain": [
       "array([1, 1, 2, ..., 2, 2, 0], dtype=int64)"
      ]
     },
     "execution_count": 45,
     "metadata": {},
     "output_type": "execute_result"
    }
   ],
   "source": [
    "y_test_class"
   ]
  },
  {
   "cell_type": "code",
   "execution_count": 46,
   "id": "b5a322bb",
   "metadata": {},
   "outputs": [],
   "source": [
    "from sklearn.metrics import f1_score\n",
    "from sklearn.metrics import precision_score, recall_score"
   ]
  },
  {
   "cell_type": "code",
   "execution_count": 47,
   "id": "ea0a693c",
   "metadata": {},
   "outputs": [],
   "source": [
    "ann_train_f1 = f1_score(y_train_class, y_pred,average=\"weighted\")\n",
    "ann_train_precision_score =precision_score(y_train_class, y_pred,average='weighted')\n",
    "ann_train_recall_score=recall_score(y_train_class, y_pred,average='weighted')\n",
    "ann_train_accuracy = accuracy_score(y_train_class,y_pred)\n",
    "\n",
    "ann_test_accuracy = accuracy_score(y_test_class,y_pred_test)\n",
    "ann_test_f1 = f1_score(y_test_class, y_pred_test,average=\"weighted\")\n",
    "ann_test_precision_score = precision_score(y_test_class, y_pred_test,average='weighted')\n",
    "ann_test_recall_score = recall_score(y_test_class, y_pred_test,average='weighted')"
   ]
  },
  {
   "cell_type": "code",
   "execution_count": 48,
   "id": "291298bc",
   "metadata": {},
   "outputs": [
    {
     "name": "stdout",
     "output_type": "stream",
     "text": [
      "Model Performance on training Set\n",
      "ann_train_accuracy: 0.711421996124031\n",
      "ann_train_f1: 0.7011166342528635\n",
      "ann_train_precision_score: 0.708134998642894\n",
      "ann_train_recall_score: 0.711421996124031\n",
      "Model Performance on test Set\n",
      "ann_test_accuracy: 0.6848352713178295\n",
      "ann_test_f1: 0.6762324830961942\n",
      "ann_test_precision_score: 0.6823615239239029\n",
      "ann_test_recall_score: 0.6848352713178295\n"
     ]
    }
   ],
   "source": [
    "print(\"Model Performance on training Set\")\n",
    "print(\"ann_train_accuracy: %s\" % ann_train_accuracy)\n",
    "print(\"ann_train_f1: %s\" % ann_train_f1)\n",
    "print(\"ann_train_precision_score: %s\" % ann_train_precision_score)\n",
    "print(\"ann_train_recall_score: %s\" % ann_train_recall_score)\n",
    "print(\"Model Performance on test Set\")\n",
    "print(\"ann_test_accuracy: %s\" % ann_test_accuracy)\n",
    "print(\"ann_test_f1: %s\" % ann_test_f1)\n",
    "print(\"ann_test_precision_score: %s\" % ann_test_precision_score)\n",
    "print(\"ann_test_recall_score: %s\" % ann_test_recall_score)\n"
   ]
  },
  {
   "cell_type": "code",
   "execution_count": 49,
   "id": "f0df6220",
   "metadata": {},
   "outputs": [
    {
     "data": {
      "image/png": "[encoded data removed]",
      "text/plain": [
       "<Figure size 432x288 with 2 Axes>"
      ]
     },
     "metadata": {
      "needs_background": "light"
     },
     "output_type": "display_data"
    }
   ],
   "source": [
    "import seaborn as sns \n",
    "import pylab as pl\n",
    " \n",
    "sns.reset_orig()\n",
    "ConfusionMatrixDisplay.from_predictions(y_train_class,y_pred)\n",
    "pl.title('CM (Train data)\\nANN \\n precision=70.7 % \\n recall=71.3%')\n",
    "pl.show()\n",
    "\n"
   ]
  },
  {
   "cell_type": "code",
   "execution_count": 50,
   "id": "23578498",
   "metadata": {},
   "outputs": [
    {
     "data": {
      "image/png": "[encoded data removed]",
      "text/plain": [
       "<Figure size 432x288 with 2 Axes>"
      ]
     },
     "metadata": {
      "needs_background": "light"
     },
     "output_type": "display_data"
    }
   ],
   "source": [
    "ConfusionMatrixDisplay.from_predictions(y_test_class,y_pred_test)\n",
    "pl.title('CM (Test data) \\nANN \\n precision=68.28 % \\n recall=68.79%')\n",
    "pl.show()"
   ]
  },
  {
   "cell_type": "code",
   "execution_count": 51,
   "id": "f175a1de",
   "metadata": {},
   "outputs": [
    {
     "data": {
      "text/plain": [
       "array([0, 4, 1, 1, 3, 4, 1, 2, 1, 4], dtype=int64)"
      ]
     },
     "execution_count": 51,
     "metadata": {},
     "output_type": "execute_result"
    }
   ],
   "source": [
    "y_pred_test[1005:1015]"
   ]
  },
  {
   "cell_type": "code",
   "execution_count": 52,
   "id": "a970c6b6",
   "metadata": {},
   "outputs": [
    {
     "data": {
      "text/plain": [
       "array([0, 4, 1, 2, 3, 4, 2, 2, 1, 3], dtype=int64)"
      ]
     },
     "execution_count": 52,
     "metadata": {},
     "output_type": "execute_result"
    }
   ],
   "source": [
    "y_test_class[1005:1015]"
   ]
  },
  {
   "cell_type": "code",
   "execution_count": 53,
   "id": "db89ea5a",
   "metadata": {},
   "outputs": [
    {
     "data": {
      "text/plain": [
       "array([2, 1, 1, 1, 1, 2, 4, 4, 1, 1], dtype=int64)"
      ]
     },
     "execution_count": 53,
     "metadata": {},
     "output_type": "execute_result"
    }
   ],
   "source": [
    "y_pred[5005:5015]"
   ]
  },
  {
   "cell_type": "code",
   "execution_count": 54,
   "id": "54e6e4e8",
   "metadata": {},
   "outputs": [
    {
     "data": {
      "text/plain": [
       "array([3, 1, 1, 1, 1, 4, 4, 2, 1, 1], dtype=int64)"
      ]
     },
     "execution_count": 54,
     "metadata": {},
     "output_type": "execute_result"
    }
   ],
   "source": [
    "y_train_class[5005:5015]"
   ]
  },
  {
   "cell_type": "code",
   "execution_count": null,
   "id": "dc047e18",
   "metadata": {},
   "outputs": [],
   "source": []
  }
 ],
 "metadata": {
  "kernelspec": {
   "display_name": "Python 3 (ipykernel)",
   "language": "python",
   "name": "python3"
  },
  "language_info": {
   "codemirror_mode": {
    "name": "ipython",
    "version": 3
   },
   "file_extension": ".py",
   "mimetype": "text/x-python",
   "name": "python",
   "nbconvert_exporter": "python",
   "pygments_lexer": "ipython3",
   "version": "3.9.12"
  }
 },
 "nbformat": 4,
 "nbformat_minor": 5
}
